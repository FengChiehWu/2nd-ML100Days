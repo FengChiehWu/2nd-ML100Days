{
 "cells": [
  {
   "cell_type": "markdown",
   "metadata": {},
   "source": [
    "1.降低企業借貸風險\n",
    "2.資料來源:Home Credit內部借貸交易紀錄\n",
    "3.資料型態:結構化資料(數字和類別型)\n",
    "4.(1)什麼特徵的人(例:其他銀行還款紀錄、信用卡每月餘額等)貸款償還能力是高的?\n",
    "(2)什麼因素會影響償還能力的高低?"
   ]
  }
 ],
 "metadata": {
  "kernelspec": {
   "display_name": "Python 3",
   "language": "python",
   "name": "python3"
  },
  "language_info": {
   "codemirror_mode": {
    "name": "ipython",
    "version": 3
   },
   "file_extension": ".py",
   "mimetype": "text/x-python",
   "name": "python",
   "nbconvert_exporter": "python",
   "pygments_lexer": "ipython3",
   "version": "3.7.3"
  }
 },
 "nbformat": 4,
 "nbformat_minor": 2
}
